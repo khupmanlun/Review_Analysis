{
 "cells": [
  {
   "cell_type": "code",
   "execution_count": 1,
   "metadata": {},
   "outputs": [],
   "source": [
    "import numpy as np\n",
    "import pandas as pd"
   ]
  },
  {
   "cell_type": "code",
   "execution_count": 2,
   "metadata": {},
   "outputs": [],
   "source": [
    "import nltk\n",
    "from sklearn.linear_model import LogisticRegression\n",
    "from nltk.corpus import stopwords"
   ]
  },
  {
   "cell_type": "code",
   "execution_count": 3,
   "metadata": {},
   "outputs": [],
   "source": [
    "#reading product reviews on electronics category\n",
    "e_data = pd.read_csv('review_files/electronics/amazon_electronics_reviews.csv')"
   ]
  },
  {
   "cell_type": "code",
   "execution_count": 4,
   "metadata": {
    "scrolled": false
   },
   "outputs": [],
   "source": [
    "#reading food products reviews\n",
    "f_data = pd.read_csv('review_files/food/food_reviews.csv')"
   ]
  },
  {
   "cell_type": "code",
   "execution_count": 5,
   "metadata": {},
   "outputs": [],
   "source": [
    "#drop null values in both the datasets\n",
    "e_data.dropna(inplace=True)\n",
    "f_data.dropna(inplace=True)"
   ]
  },
  {
   "cell_type": "code",
   "execution_count": 6,
   "metadata": {},
   "outputs": [
    {
     "data": {
      "text/html": [
       "<div>\n",
       "<style scoped>\n",
       "    .dataframe tbody tr th:only-of-type {\n",
       "        vertical-align: middle;\n",
       "    }\n",
       "\n",
       "    .dataframe tbody tr th {\n",
       "        vertical-align: top;\n",
       "    }\n",
       "\n",
       "    .dataframe thead th {\n",
       "        text-align: right;\n",
       "    }\n",
       "</style>\n",
       "<table border=\"1\" class=\"dataframe\">\n",
       "  <thead>\n",
       "    <tr style=\"text-align: right;\">\n",
       "      <th></th>\n",
       "      <th>Id</th>\n",
       "      <th>ProductId</th>\n",
       "      <th>UserId</th>\n",
       "      <th>ProfileName</th>\n",
       "      <th>HelpfulnessNumerator</th>\n",
       "      <th>HelpfulnessDenominator</th>\n",
       "      <th>Score</th>\n",
       "      <th>Time</th>\n",
       "      <th>Summary</th>\n",
       "      <th>Text</th>\n",
       "    </tr>\n",
       "  </thead>\n",
       "  <tbody>\n",
       "    <tr>\n",
       "      <th>0</th>\n",
       "      <td>1</td>\n",
       "      <td>B001E4KFG0</td>\n",
       "      <td>A3SGXH7AUHU8GW</td>\n",
       "      <td>delmartian</td>\n",
       "      <td>1</td>\n",
       "      <td>1</td>\n",
       "      <td>5</td>\n",
       "      <td>1303862400</td>\n",
       "      <td>Good Quality Dog Food</td>\n",
       "      <td>I have bought several of the Vitality canned d...</td>\n",
       "    </tr>\n",
       "    <tr>\n",
       "      <th>1</th>\n",
       "      <td>2</td>\n",
       "      <td>B00813GRG4</td>\n",
       "      <td>A1D87F6ZCVE5NK</td>\n",
       "      <td>dll pa</td>\n",
       "      <td>0</td>\n",
       "      <td>0</td>\n",
       "      <td>1</td>\n",
       "      <td>1346976000</td>\n",
       "      <td>Not as Advertised</td>\n",
       "      <td>Product arrived labeled as Jumbo Salted Peanut...</td>\n",
       "    </tr>\n",
       "    <tr>\n",
       "      <th>2</th>\n",
       "      <td>3</td>\n",
       "      <td>B000LQOCH0</td>\n",
       "      <td>ABXLMWJIXXAIN</td>\n",
       "      <td>Natalia Corres \"Natalia Corres\"</td>\n",
       "      <td>1</td>\n",
       "      <td>1</td>\n",
       "      <td>4</td>\n",
       "      <td>1219017600</td>\n",
       "      <td>\"Delight\" says it all</td>\n",
       "      <td>This is a confection that has been around a fe...</td>\n",
       "    </tr>\n",
       "    <tr>\n",
       "      <th>3</th>\n",
       "      <td>4</td>\n",
       "      <td>B000UA0QIQ</td>\n",
       "      <td>A395BORC6FGVXV</td>\n",
       "      <td>Karl</td>\n",
       "      <td>3</td>\n",
       "      <td>3</td>\n",
       "      <td>2</td>\n",
       "      <td>1307923200</td>\n",
       "      <td>Cough Medicine</td>\n",
       "      <td>If you are looking for the secret ingredient i...</td>\n",
       "    </tr>\n",
       "    <tr>\n",
       "      <th>4</th>\n",
       "      <td>5</td>\n",
       "      <td>B006K2ZZ7K</td>\n",
       "      <td>A1UQRSCLF8GW1T</td>\n",
       "      <td>Michael D. Bigham \"M. Wassir\"</td>\n",
       "      <td>0</td>\n",
       "      <td>0</td>\n",
       "      <td>5</td>\n",
       "      <td>1350777600</td>\n",
       "      <td>Great taffy</td>\n",
       "      <td>Great taffy at a great price.  There was a wid...</td>\n",
       "    </tr>\n",
       "  </tbody>\n",
       "</table>\n",
       "</div>"
      ],
      "text/plain": [
       "   Id   ProductId          UserId                      ProfileName  \\\n",
       "0   1  B001E4KFG0  A3SGXH7AUHU8GW                       delmartian   \n",
       "1   2  B00813GRG4  A1D87F6ZCVE5NK                           dll pa   \n",
       "2   3  B000LQOCH0   ABXLMWJIXXAIN  Natalia Corres \"Natalia Corres\"   \n",
       "3   4  B000UA0QIQ  A395BORC6FGVXV                             Karl   \n",
       "4   5  B006K2ZZ7K  A1UQRSCLF8GW1T    Michael D. Bigham \"M. Wassir\"   \n",
       "\n",
       "   HelpfulnessNumerator  HelpfulnessDenominator  Score        Time  \\\n",
       "0                     1                       1      5  1303862400   \n",
       "1                     0                       0      1  1346976000   \n",
       "2                     1                       1      4  1219017600   \n",
       "3                     3                       3      2  1307923200   \n",
       "4                     0                       0      5  1350777600   \n",
       "\n",
       "                 Summary                                               Text  \n",
       "0  Good Quality Dog Food  I have bought several of the Vitality canned d...  \n",
       "1      Not as Advertised  Product arrived labeled as Jumbo Salted Peanut...  \n",
       "2  \"Delight\" says it all  This is a confection that has been around a fe...  \n",
       "3         Cough Medicine  If you are looking for the secret ingredient i...  \n",
       "4            Great taffy  Great taffy at a great price.  There was a wid...  "
      ]
     },
     "execution_count": 6,
     "metadata": {},
     "output_type": "execute_result"
    }
   ],
   "source": [
    "f_data.head()"
   ]
  },
  {
   "cell_type": "code",
   "execution_count": 7,
   "metadata": {},
   "outputs": [
    {
     "name": "stdout",
     "output_type": "stream",
     "text": [
      "ok\n"
     ]
    }
   ],
   "source": [
    "#Rating are in the range of 1 to 5, But Reviews with a score or rating of #3 adds no real value to finding the truth about the product\n",
    "#So, reviews with rating of #3 are removed for the files.\n",
    "#f_data = f_data[f_data['Score']!=3]\n",
    "#e_data = e_data[e_data['Rating']!=3]\n",
    "print('ok')"
   ]
  },
  {
   "cell_type": "code",
   "execution_count": 8,
   "metadata": {},
   "outputs": [
    {
     "data": {
      "text/html": [
       "<div>\n",
       "<style scoped>\n",
       "    .dataframe tbody tr th:only-of-type {\n",
       "        vertical-align: middle;\n",
       "    }\n",
       "\n",
       "    .dataframe tbody tr th {\n",
       "        vertical-align: top;\n",
       "    }\n",
       "\n",
       "    .dataframe thead th {\n",
       "        text-align: right;\n",
       "    }\n",
       "</style>\n",
       "<table border=\"1\" class=\"dataframe\">\n",
       "  <thead>\n",
       "    <tr style=\"text-align: right;\">\n",
       "      <th></th>\n",
       "      <th>Id</th>\n",
       "      <th>ProductId</th>\n",
       "      <th>UserId</th>\n",
       "      <th>ProfileName</th>\n",
       "      <th>HelpfulnessNumerator</th>\n",
       "      <th>HelpfulnessDenominator</th>\n",
       "      <th>Score</th>\n",
       "      <th>Time</th>\n",
       "      <th>Summary</th>\n",
       "      <th>Text</th>\n",
       "    </tr>\n",
       "  </thead>\n",
       "  <tbody>\n",
       "    <tr>\n",
       "      <th>0</th>\n",
       "      <td>1</td>\n",
       "      <td>B001E4KFG0</td>\n",
       "      <td>A3SGXH7AUHU8GW</td>\n",
       "      <td>delmartian</td>\n",
       "      <td>1</td>\n",
       "      <td>1</td>\n",
       "      <td>5</td>\n",
       "      <td>1303862400</td>\n",
       "      <td>Good Quality Dog Food</td>\n",
       "      <td>I have bought several of the Vitality canned d...</td>\n",
       "    </tr>\n",
       "    <tr>\n",
       "      <th>1</th>\n",
       "      <td>2</td>\n",
       "      <td>B00813GRG4</td>\n",
       "      <td>A1D87F6ZCVE5NK</td>\n",
       "      <td>dll pa</td>\n",
       "      <td>0</td>\n",
       "      <td>0</td>\n",
       "      <td>1</td>\n",
       "      <td>1346976000</td>\n",
       "      <td>Not as Advertised</td>\n",
       "      <td>Product arrived labeled as Jumbo Salted Peanut...</td>\n",
       "    </tr>\n",
       "    <tr>\n",
       "      <th>2</th>\n",
       "      <td>3</td>\n",
       "      <td>B000LQOCH0</td>\n",
       "      <td>ABXLMWJIXXAIN</td>\n",
       "      <td>Natalia Corres \"Natalia Corres\"</td>\n",
       "      <td>1</td>\n",
       "      <td>1</td>\n",
       "      <td>4</td>\n",
       "      <td>1219017600</td>\n",
       "      <td>\"Delight\" says it all</td>\n",
       "      <td>This is a confection that has been around a fe...</td>\n",
       "    </tr>\n",
       "    <tr>\n",
       "      <th>3</th>\n",
       "      <td>4</td>\n",
       "      <td>B000UA0QIQ</td>\n",
       "      <td>A395BORC6FGVXV</td>\n",
       "      <td>Karl</td>\n",
       "      <td>3</td>\n",
       "      <td>3</td>\n",
       "      <td>2</td>\n",
       "      <td>1307923200</td>\n",
       "      <td>Cough Medicine</td>\n",
       "      <td>If you are looking for the secret ingredient i...</td>\n",
       "    </tr>\n",
       "    <tr>\n",
       "      <th>4</th>\n",
       "      <td>5</td>\n",
       "      <td>B006K2ZZ7K</td>\n",
       "      <td>A1UQRSCLF8GW1T</td>\n",
       "      <td>Michael D. Bigham \"M. Wassir\"</td>\n",
       "      <td>0</td>\n",
       "      <td>0</td>\n",
       "      <td>5</td>\n",
       "      <td>1350777600</td>\n",
       "      <td>Great taffy</td>\n",
       "      <td>Great taffy at a great price.  There was a wid...</td>\n",
       "    </tr>\n",
       "  </tbody>\n",
       "</table>\n",
       "</div>"
      ],
      "text/plain": [
       "   Id   ProductId          UserId                      ProfileName  \\\n",
       "0   1  B001E4KFG0  A3SGXH7AUHU8GW                       delmartian   \n",
       "1   2  B00813GRG4  A1D87F6ZCVE5NK                           dll pa   \n",
       "2   3  B000LQOCH0   ABXLMWJIXXAIN  Natalia Corres \"Natalia Corres\"   \n",
       "3   4  B000UA0QIQ  A395BORC6FGVXV                             Karl   \n",
       "4   5  B006K2ZZ7K  A1UQRSCLF8GW1T    Michael D. Bigham \"M. Wassir\"   \n",
       "\n",
       "   HelpfulnessNumerator  HelpfulnessDenominator  Score        Time  \\\n",
       "0                     1                       1      5  1303862400   \n",
       "1                     0                       0      1  1346976000   \n",
       "2                     1                       1      4  1219017600   \n",
       "3                     3                       3      2  1307923200   \n",
       "4                     0                       0      5  1350777600   \n",
       "\n",
       "                 Summary                                               Text  \n",
       "0  Good Quality Dog Food  I have bought several of the Vitality canned d...  \n",
       "1      Not as Advertised  Product arrived labeled as Jumbo Salted Peanut...  \n",
       "2  \"Delight\" says it all  This is a confection that has been around a fe...  \n",
       "3         Cough Medicine  If you are looking for the secret ingredient i...  \n",
       "4            Great taffy  Great taffy at a great price.  There was a wid...  "
      ]
     },
     "execution_count": 8,
     "metadata": {},
     "output_type": "execute_result"
    }
   ],
   "source": [
    "f_data.head()"
   ]
  },
  {
   "cell_type": "code",
   "execution_count": 9,
   "metadata": {},
   "outputs": [],
   "source": [
    "#drop all the useless columns\n",
    "e_data.drop('Product Name',inplace=True,axis=1)\n",
    "e_data.drop('Brand Name',inplace=True,axis=1)\n",
    "e_data.drop('Price',inplace=True,axis=1)\n",
    "e_data.drop('Review Votes',inplace=True,axis=1)\n",
    "\n",
    "f_data.drop('Id',inplace=True,axis=1)\n",
    "f_data.drop('ProductId',inplace=True,axis=1)\n",
    "f_data.drop('UserId',inplace=True,axis=1)\n",
    "f_data.drop('ProfileName',inplace=True,axis=1)\n",
    "f_data.drop('HelpfulnessNumerator',inplace=True,axis=1)\n",
    "f_data.drop('HelpfulnessDenominator',inplace=True,axis=1)\n",
    "f_data.drop('Time',inplace=True,axis=1)\n",
    "f_data.drop('Summary',inplace=True,axis=1)"
   ]
  },
  {
   "cell_type": "code",
   "execution_count": 10,
   "metadata": {},
   "outputs": [],
   "source": [
    "e_data = e_data.sample(frac=1).reset_index(drop=True)\n",
    "f_data = f_data.sample(frac=1).reset_index(drop=True)"
   ]
  },
  {
   "cell_type": "code",
   "execution_count": 11,
   "metadata": {},
   "outputs": [],
   "source": [
    "e_data = e_data.drop(e_data.index[200000:])\n",
    "f_data = f_data.drop(f_data.index[200000:])"
   ]
  },
  {
   "cell_type": "code",
   "execution_count": 12,
   "metadata": {},
   "outputs": [],
   "source": [
    "#################################################"
   ]
  },
  {
   "cell_type": "code",
   "execution_count": 13,
   "metadata": {},
   "outputs": [],
   "source": [
    "#create a function which will normalized the review_text\n",
    "def normalize_words(raw_txt):\n",
    "    words = raw_txt.lower().split()\n",
    "    stops = set(stopwords.words(\"english\"))\n",
    "    meaningful_words = [w for w in words if not w in stops]\n",
    "    return( \" \".join( meaningful_words ))"
   ]
  },
  {
   "cell_type": "code",
   "execution_count": 14,
   "metadata": {},
   "outputs": [],
   "source": [
    "#applying the normalization function in e_data\n",
    "e_data['clean_reviews'] = e_data['Reviews'].apply(normalize_words)"
   ]
  },
  {
   "cell_type": "code",
   "execution_count": 15,
   "metadata": {},
   "outputs": [],
   "source": [
    "#applying the normalization function in f_data\n",
    "f_data['clean_reviews'] = f_data['Text'].apply(normalize_words)"
   ]
  },
  {
   "cell_type": "code",
   "execution_count": 16,
   "metadata": {},
   "outputs": [
    {
     "data": {
      "text/html": [
       "<div>\n",
       "<style scoped>\n",
       "    .dataframe tbody tr th:only-of-type {\n",
       "        vertical-align: middle;\n",
       "    }\n",
       "\n",
       "    .dataframe tbody tr th {\n",
       "        vertical-align: top;\n",
       "    }\n",
       "\n",
       "    .dataframe thead th {\n",
       "        text-align: right;\n",
       "    }\n",
       "</style>\n",
       "<table border=\"1\" class=\"dataframe\">\n",
       "  <thead>\n",
       "    <tr style=\"text-align: right;\">\n",
       "      <th></th>\n",
       "      <th>Rating</th>\n",
       "      <th>Reviews</th>\n",
       "      <th>clean_reviews</th>\n",
       "    </tr>\n",
       "  </thead>\n",
       "  <tbody>\n",
       "    <tr>\n",
       "      <th>0</th>\n",
       "      <td>2</td>\n",
       "      <td>I am having a lot of problem with this Bran of...</td>\n",
       "      <td>lot problem bran phone. stuff bought perfect.</td>\n",
       "    </tr>\n",
       "    <tr>\n",
       "      <th>1</th>\n",
       "      <td>3</td>\n",
       "      <td>good phone for the money</td>\n",
       "      <td>good phone money</td>\n",
       "    </tr>\n",
       "    <tr>\n",
       "      <th>2</th>\n",
       "      <td>4</td>\n",
       "      <td>Good</td>\n",
       "      <td>good</td>\n",
       "    </tr>\n",
       "    <tr>\n",
       "      <th>3</th>\n",
       "      <td>3</td>\n",
       "      <td>Great phone when I finally got it. The only do...</td>\n",
       "      <td>great phone finally got it. downside worry sto...</td>\n",
       "    </tr>\n",
       "    <tr>\n",
       "      <th>4</th>\n",
       "      <td>5</td>\n",
       "      <td>http://www.amazon.com/gp/product/B00PEJQU9M?re...</td>\n",
       "      <td>http://www.amazon.com/gp/product/b00pejqu9m?re...</td>\n",
       "    </tr>\n",
       "  </tbody>\n",
       "</table>\n",
       "</div>"
      ],
      "text/plain": [
       "   Rating                                            Reviews  \\\n",
       "0       2  I am having a lot of problem with this Bran of...   \n",
       "1       3                           good phone for the money   \n",
       "2       4                                               Good   \n",
       "3       3  Great phone when I finally got it. The only do...   \n",
       "4       5  http://www.amazon.com/gp/product/B00PEJQU9M?re...   \n",
       "\n",
       "                                       clean_reviews  \n",
       "0      lot problem bran phone. stuff bought perfect.  \n",
       "1                                   good phone money  \n",
       "2                                               good  \n",
       "3  great phone finally got it. downside worry sto...  \n",
       "4  http://www.amazon.com/gp/product/b00pejqu9m?re...  "
      ]
     },
     "execution_count": 16,
     "metadata": {},
     "output_type": "execute_result"
    }
   ],
   "source": [
    "e_data.head()"
   ]
  },
  {
   "cell_type": "code",
   "execution_count": 17,
   "metadata": {},
   "outputs": [
    {
     "data": {
      "text/html": [
       "<div>\n",
       "<style scoped>\n",
       "    .dataframe tbody tr th:only-of-type {\n",
       "        vertical-align: middle;\n",
       "    }\n",
       "\n",
       "    .dataframe tbody tr th {\n",
       "        vertical-align: top;\n",
       "    }\n",
       "\n",
       "    .dataframe thead th {\n",
       "        text-align: right;\n",
       "    }\n",
       "</style>\n",
       "<table border=\"1\" class=\"dataframe\">\n",
       "  <thead>\n",
       "    <tr style=\"text-align: right;\">\n",
       "      <th></th>\n",
       "      <th>Score</th>\n",
       "      <th>Text</th>\n",
       "      <th>clean_reviews</th>\n",
       "    </tr>\n",
       "  </thead>\n",
       "  <tbody>\n",
       "    <tr>\n",
       "      <th>0</th>\n",
       "      <td>5</td>\n",
       "      <td>I'm not a big tea drinker. I keep buying diffe...</td>\n",
       "      <td>i'm big tea drinker. keep buying different typ...</td>\n",
       "    </tr>\n",
       "    <tr>\n",
       "      <th>1</th>\n",
       "      <td>3</td>\n",
       "      <td>This is the second coffee I have tried from Co...</td>\n",
       "      <td>second coffee tried coffee bean direct, experi...</td>\n",
       "    </tr>\n",
       "    <tr>\n",
       "      <th>2</th>\n",
       "      <td>5</td>\n",
       "      <td>Fantastic for making homemade vanilla extract....</td>\n",
       "      <td>fantastic making homemade vanilla extract. the...</td>\n",
       "    </tr>\n",
       "    <tr>\n",
       "      <th>3</th>\n",
       "      <td>3</td>\n",
       "      <td>There are 2 design issues with this toy: 1. in...</td>\n",
       "      <td>2 design issues toy: 1. order rope go back in,...</td>\n",
       "    </tr>\n",
       "    <tr>\n",
       "      <th>4</th>\n",
       "      <td>5</td>\n",
       "      <td>I've tried several different brands of coconut...</td>\n",
       "      <td>i've tried several different brands coconut wa...</td>\n",
       "    </tr>\n",
       "  </tbody>\n",
       "</table>\n",
       "</div>"
      ],
      "text/plain": [
       "   Score                                               Text  \\\n",
       "0      5  I'm not a big tea drinker. I keep buying diffe...   \n",
       "1      3  This is the second coffee I have tried from Co...   \n",
       "2      5  Fantastic for making homemade vanilla extract....   \n",
       "3      3  There are 2 design issues with this toy: 1. in...   \n",
       "4      5  I've tried several different brands of coconut...   \n",
       "\n",
       "                                       clean_reviews  \n",
       "0  i'm big tea drinker. keep buying different typ...  \n",
       "1  second coffee tried coffee bean direct, experi...  \n",
       "2  fantastic making homemade vanilla extract. the...  \n",
       "3  2 design issues toy: 1. order rope go back in,...  \n",
       "4  i've tried several different brands coconut wa...  "
      ]
     },
     "execution_count": 17,
     "metadata": {},
     "output_type": "execute_result"
    }
   ],
   "source": [
    "f_data.head()"
   ]
  },
  {
   "cell_type": "code",
   "execution_count": 18,
   "metadata": {},
   "outputs": [],
   "source": [
    "#Putting the features columns which we will need in different dataframe and is done for both\n",
    "e_df = e_data[['clean_reviews','Rating']]\n",
    "f_df = f_data[['clean_reviews','Score']]"
   ]
  },
  {
   "cell_type": "code",
   "execution_count": 19,
   "metadata": {},
   "outputs": [],
   "source": [
    "#changing the column names to 'Reviews_text' and 'Rating' in both the dataframe\n",
    "e_df.columns = ['Reviews_text','Rating']\n",
    "f_df.columns = ['Reviews_text','Rating']"
   ]
  },
  {
   "cell_type": "code",
   "execution_count": 20,
   "metadata": {},
   "outputs": [],
   "source": [
    "#combining or stacking the two dataframe together in one dataframe call clean_file\n",
    "clean_file = f_df.append(e_df)"
   ]
  },
  {
   "cell_type": "code",
   "execution_count": 21,
   "metadata": {},
   "outputs": [
    {
     "data": {
      "text/html": [
       "<div>\n",
       "<style scoped>\n",
       "    .dataframe tbody tr th:only-of-type {\n",
       "        vertical-align: middle;\n",
       "    }\n",
       "\n",
       "    .dataframe tbody tr th {\n",
       "        vertical-align: top;\n",
       "    }\n",
       "\n",
       "    .dataframe thead th {\n",
       "        text-align: right;\n",
       "    }\n",
       "</style>\n",
       "<table border=\"1\" class=\"dataframe\">\n",
       "  <thead>\n",
       "    <tr style=\"text-align: right;\">\n",
       "      <th></th>\n",
       "      <th>Reviews_text</th>\n",
       "      <th>Rating</th>\n",
       "    </tr>\n",
       "  </thead>\n",
       "  <tbody>\n",
       "    <tr>\n",
       "      <th>0</th>\n",
       "      <td>i'm big tea drinker. keep buying different typ...</td>\n",
       "      <td>5</td>\n",
       "    </tr>\n",
       "    <tr>\n",
       "      <th>1</th>\n",
       "      <td>second coffee tried coffee bean direct, experi...</td>\n",
       "      <td>3</td>\n",
       "    </tr>\n",
       "    <tr>\n",
       "      <th>2</th>\n",
       "      <td>fantastic making homemade vanilla extract. the...</td>\n",
       "      <td>5</td>\n",
       "    </tr>\n",
       "    <tr>\n",
       "      <th>3</th>\n",
       "      <td>2 design issues toy: 1. order rope go back in,...</td>\n",
       "      <td>3</td>\n",
       "    </tr>\n",
       "    <tr>\n",
       "      <th>4</th>\n",
       "      <td>i've tried several different brands coconut wa...</td>\n",
       "      <td>5</td>\n",
       "    </tr>\n",
       "  </tbody>\n",
       "</table>\n",
       "</div>"
      ],
      "text/plain": [
       "                                        Reviews_text  Rating\n",
       "0  i'm big tea drinker. keep buying different typ...       5\n",
       "1  second coffee tried coffee bean direct, experi...       3\n",
       "2  fantastic making homemade vanilla extract. the...       5\n",
       "3  2 design issues toy: 1. order rope go back in,...       3\n",
       "4  i've tried several different brands coconut wa...       5"
      ]
     },
     "execution_count": 21,
     "metadata": {},
     "output_type": "execute_result"
    }
   ],
   "source": [
    "#now the data we have stack looks like this\n",
    "clean_file.head()"
   ]
  },
  {
   "cell_type": "code",
   "execution_count": 22,
   "metadata": {},
   "outputs": [
    {
     "data": {
      "text/plain": [
       "400000"
      ]
     },
     "execution_count": 22,
     "metadata": {},
     "output_type": "execute_result"
    }
   ],
   "source": [
    "len(clean_file)"
   ]
  },
  {
   "cell_type": "code",
   "execution_count": 23,
   "metadata": {},
   "outputs": [],
   "source": [
    "clean_data = pd.DataFrame()"
   ]
  },
  {
   "cell_type": "code",
   "execution_count": 24,
   "metadata": {},
   "outputs": [],
   "source": [
    "#since the data we have right now need to be suffled to prevent learning issues\n",
    "clean_data = clean_file.sample(frac=1).reset_index(drop=True)"
   ]
  },
  {
   "cell_type": "code",
   "execution_count": 25,
   "metadata": {},
   "outputs": [],
   "source": [
    "#The clean data is now ready for classification and apply ML model\n",
    "clean_data = clean_file[clean_file['Rating']!=3]"
   ]
  },
  {
   "cell_type": "code",
   "execution_count": 26,
   "metadata": {},
   "outputs": [
    {
     "name": "stderr",
     "output_type": "stream",
     "text": [
      "E:\\Software\\Anaconda3\\lib\\site-packages\\ipykernel_launcher.py:3: SettingWithCopyWarning: \n",
      "A value is trying to be set on a copy of a slice from a DataFrame.\n",
      "Try using .loc[row_indexer,col_indexer] = value instead\n",
      "\n",
      "See the caveats in the documentation: http://pandas.pydata.org/pandas-docs/stable/indexing.html#indexing-view-versus-copy\n",
      "  This is separate from the ipykernel package so we can avoid doing imports until\n"
     ]
    }
   ],
   "source": [
    "#Create a new column where reviews greater than #3 are given a score of 1 and less than #3 a score of 0\n",
    "#Of course this is to simplify our understanding and not have to worry about all the review scores as a whole\n",
    "clean_data['new_rate'] = np.where(clean_data['Rating']>3,1,0) #using the numpy where method"
   ]
  },
  {
   "cell_type": "code",
   "execution_count": 27,
   "metadata": {},
   "outputs": [
    {
     "data": {
      "text/html": [
       "<div>\n",
       "<style scoped>\n",
       "    .dataframe tbody tr th:only-of-type {\n",
       "        vertical-align: middle;\n",
       "    }\n",
       "\n",
       "    .dataframe tbody tr th {\n",
       "        vertical-align: top;\n",
       "    }\n",
       "\n",
       "    .dataframe thead th {\n",
       "        text-align: right;\n",
       "    }\n",
       "</style>\n",
       "<table border=\"1\" class=\"dataframe\">\n",
       "  <thead>\n",
       "    <tr style=\"text-align: right;\">\n",
       "      <th></th>\n",
       "      <th>Reviews_text</th>\n",
       "      <th>Rating</th>\n",
       "      <th>new_rate</th>\n",
       "    </tr>\n",
       "  </thead>\n",
       "  <tbody>\n",
       "    <tr>\n",
       "      <th>0</th>\n",
       "      <td>i'm big tea drinker. keep buying different typ...</td>\n",
       "      <td>5</td>\n",
       "      <td>1</td>\n",
       "    </tr>\n",
       "    <tr>\n",
       "      <th>2</th>\n",
       "      <td>fantastic making homemade vanilla extract. the...</td>\n",
       "      <td>5</td>\n",
       "      <td>1</td>\n",
       "    </tr>\n",
       "    <tr>\n",
       "      <th>4</th>\n",
       "      <td>i've tried several different brands coconut wa...</td>\n",
       "      <td>5</td>\n",
       "      <td>1</td>\n",
       "    </tr>\n",
       "    <tr>\n",
       "      <th>6</th>\n",
       "      <td>like tender jerky nice kick recommend jack lin...</td>\n",
       "      <td>5</td>\n",
       "      <td>1</td>\n",
       "    </tr>\n",
       "    <tr>\n",
       "      <th>7</th>\n",
       "      <td>tim burton guy hollywood honor every day. he's...</td>\n",
       "      <td>4</td>\n",
       "      <td>1</td>\n",
       "    </tr>\n",
       "  </tbody>\n",
       "</table>\n",
       "</div>"
      ],
      "text/plain": [
       "                                        Reviews_text  Rating  new_rate\n",
       "0  i'm big tea drinker. keep buying different typ...       5         1\n",
       "2  fantastic making homemade vanilla extract. the...       5         1\n",
       "4  i've tried several different brands coconut wa...       5         1\n",
       "6  like tender jerky nice kick recommend jack lin...       5         1\n",
       "7  tim burton guy hollywood honor every day. he's...       4         1"
      ]
     },
     "execution_count": 27,
     "metadata": {},
     "output_type": "execute_result"
    }
   ],
   "source": [
    "clean_data.head()"
   ]
  },
  {
   "cell_type": "code",
   "execution_count": 28,
   "metadata": {},
   "outputs": [],
   "source": [
    "#Time to split our data into training sets and test sets using our Reviews_text and Rating column\n",
    "from sklearn.model_selection import train_test_split\n",
    "X_train,X_test,y_train,y_test = train_test_split(clean_data['Reviews_text'],clean_data['new_rate'],random_state=0)"
   ]
  },
  {
   "cell_type": "code",
   "execution_count": 29,
   "metadata": {},
   "outputs": [
    {
     "data": {
      "text/plain": [
       "(276936,)"
      ]
     },
     "execution_count": 29,
     "metadata": {},
     "output_type": "execute_result"
    }
   ],
   "source": [
    "X_train.shape"
   ]
  },
  {
   "cell_type": "code",
   "execution_count": 30,
   "metadata": {},
   "outputs": [
    {
     "data": {
      "text/plain": [
       "13         phone become defective three months. warned.\n",
       "13    $23 16 discs $8.99 tassimo. could sworn descri...\n",
       "Name: Reviews_text, dtype: object"
      ]
     },
     "execution_count": 30,
     "metadata": {},
     "output_type": "execute_result"
    }
   ],
   "source": [
    "X_train[13]"
   ]
  },
  {
   "cell_type": "code",
   "execution_count": 67,
   "metadata": {},
   "outputs": [],
   "source": [
    "#To convert bag of words with count vectorizer is used , which can be found in the scikit learn docs\n",
    "#Convert the train data to vectorized data\n",
    "from sklearn.feature_extraction.text import CountVectorizer\n",
    "count_Vect = CountVectorizer()\n",
    "count_Vect.fit(X_train)\n",
    "count_Vect\n",
    "X_train_vec_data = count_Vect.transform(X_train)"
   ]
  },
  {
   "cell_type": "code",
   "execution_count": 68,
   "metadata": {},
   "outputs": [
    {
     "data": {
      "text/plain": [
       "<276936x89814 sparse matrix of type '<class 'numpy.int64'>'\n",
       "\twith 7414887 stored elements in Compressed Sparse Row format>"
      ]
     },
     "execution_count": 68,
     "metadata": {},
     "output_type": "execute_result"
    }
   ],
   "source": [
    "X_train_vec_data"
   ]
  },
  {
   "cell_type": "code",
   "execution_count": 69,
   "metadata": {},
   "outputs": [
    {
     "name": "stdout",
     "output_type": "stream",
     "text": [
      "102.25803136825562\n"
     ]
    }
   ],
   "source": [
    "#Finally let's apply Logistic regression on the data and create our model\n",
    "import time\n",
    "begin = time.time()\n",
    "model = LogisticRegression()\n",
    "model.fit(X_train_vec_data,y_train)\n",
    "time_lg = time.time()-begin\n",
    "print(time_lg)"
   ]
  },
  {
   "cell_type": "code",
   "execution_count": 70,
   "metadata": {},
   "outputs": [
    {
     "data": {
      "text/plain": [
       "0.9308973914550654"
      ]
     },
     "execution_count": 70,
     "metadata": {},
     "output_type": "execute_result"
    }
   ],
   "source": [
    "accuracy_lg = model.score(count_Vect.transform(X_test),y_test)\n",
    "accuracy_lg"
   ]
  },
  {
   "cell_type": "code",
   "execution_count": 71,
   "metadata": {},
   "outputs": [
    {
     "name": "stdout",
     "output_type": "stream",
     "text": [
      "Score:  0.8739278201222184\n"
     ]
    }
   ],
   "source": [
    "#We can try another means to score our model using the AUC(Area under the curve) score\n",
    "from sklearn.metrics import roc_auc_score\n",
    "pred = model.predict(count_Vect.transform(X_test))\n",
    "auc_lg=roc_auc_score(y_test,pred)\n",
    "print('Score: ',auc_lg)"
   ]
  },
  {
   "cell_type": "code",
   "execution_count": 72,
   "metadata": {},
   "outputs": [
    {
     "data": {
      "text/plain": [
       "array([0, 0])"
      ]
     },
     "execution_count": 72,
     "metadata": {},
     "output_type": "execute_result"
    }
   ],
   "source": [
    "model.predict(count_Vect.transform(['I will return this product. Worst product','elderly lab suffers arthritis. pain greatly diminished taking glucosamine chondroitin.']))"
   ]
  },
  {
   "cell_type": "code",
   "execution_count": 73,
   "metadata": {},
   "outputs": [],
   "source": [
    "one_s = 0;\n",
    "two_s = 0;\n",
    "three_s = 0;\n",
    "four_s = 0;\n",
    "five_s = 0;\n",
    "\n",
    "for i in clean_file['Rating']:\n",
    "    if(i==1):\n",
    "        one_s += 1;\n",
    "    if(i==2):\n",
    "        two_s += 1;\n",
    "    if(i==3):\n",
    "        three_s += 1;\n",
    "    if(i==4):\n",
    "        four_s += 1;\n",
    "    if(i==5):\n",
    "        five_s += 1;\n"
   ]
  },
  {
   "cell_type": "code",
   "execution_count": 74,
   "metadata": {},
   "outputs": [
    {
     "data": {
      "image/png": "[encoded data removed]",
      "text/plain": [
       "<Figure size 432x288 with 1 Axes>"
      ]
     },
     "metadata": {},
     "output_type": "display_data"
    }
   ],
   "source": [
    "\n",
    "import matplotlib.pyplot as plt \n",
    "  \n",
    "# x-coordinates of left sides of bars  \n",
    "left = [1, 2, 3, 4, 5] \n",
    "  \n",
    "# heights of bars \n",
    "height = [one_s, two_s, three_s, four_s, five_s] \n",
    "  \n",
    "# labels for bars \n",
    "tick_label = ['one', 'two', 'three', 'four', 'five'] \n",
    "  \n",
    "# plotting a bar chart \n",
    "plt.bar(left, height, tick_label = tick_label, \n",
    "        width = 0.8, color = ['red','blue','green','yellow','grey']) \n",
    "  \n",
    "# naming the x-axis \n",
    "plt.xlabel('Star ratings') \n",
    "# naming the y-axis \n",
    "plt.ylabel('Frequency') \n",
    "# plot title \n",
    "plt.title('Input dataset') \n",
    "  \n",
    "# function to show the plot \n",
    "\n",
    "plt.show() "
   ]
  },
  {
   "cell_type": "code",
   "execution_count": 75,
   "metadata": {},
   "outputs": [
    {
     "data": {
      "image/png": "[encoded data removed]",
      "text/plain": [
       "<Figure size 432x288 with 1 Axes>"
      ]
     },
     "metadata": {},
     "output_type": "display_data"
    }
   ],
   "source": [
    "accuracy_output=[accuracy_lg]\n",
    "activities = ['Overall accuracy']\n",
    "colors = ['y']\n",
    "plt.pie(accuracy_output, labels=activities, colors=colors, startangle=90, autopct='%.1f%%')\n",
    "plt.show()"
   ]
  },
  {
   "cell_type": "code",
   "execution_count": 76,
   "metadata": {},
   "outputs": [],
   "source": [
    "testing_data = pd.read_csv('test_file.csv')"
   ]
  },
  {
   "cell_type": "code",
   "execution_count": 77,
   "metadata": {},
   "outputs": [
    {
     "data": {
      "text/html": [
       "<div>\n",
       "<style scoped>\n",
       "    .dataframe tbody tr th:only-of-type {\n",
       "        vertical-align: middle;\n",
       "    }\n",
       "\n",
       "    .dataframe tbody tr th {\n",
       "        vertical-align: top;\n",
       "    }\n",
       "\n",
       "    .dataframe thead th {\n",
       "        text-align: right;\n",
       "    }\n",
       "</style>\n",
       "<table border=\"1\" class=\"dataframe\">\n",
       "  <thead>\n",
       "    <tr style=\"text-align: right;\">\n",
       "      <th></th>\n",
       "      <th>Huawei Y9 2019 Reviews</th>\n",
       "    </tr>\n",
       "  </thead>\n",
       "  <tbody>\n",
       "    <tr>\n",
       "      <th>0</th>\n",
       "      <td>It is regret to mentioned that as a launch off...</td>\n",
       "    </tr>\n",
       "    <tr>\n",
       "      <th>1</th>\n",
       "      <td>Very very poor camera, kindly go for some othe...</td>\n",
       "    </tr>\n",
       "    <tr>\n",
       "      <th>2</th>\n",
       "      <td>Excellent buy, High on performance with Kirin ...</td>\n",
       "    </tr>\n",
       "    <tr>\n",
       "      <th>3</th>\n",
       "      <td>Didn't receive the headphone that had promised...</td>\n",
       "    </tr>\n",
       "    <tr>\n",
       "      <th>4</th>\n",
       "      <td>After all, after waiting for a long time, a go...</td>\n",
       "    </tr>\n",
       "    <tr>\n",
       "      <th>5</th>\n",
       "      <td>I am not getting boAt rockerz Bluetooth headse...</td>\n",
       "    </tr>\n",
       "    <tr>\n",
       "      <th>6</th>\n",
       "      <td>no headear phone with this pack,which is offer...</td>\n",
       "    </tr>\n",
       "    <tr>\n",
       "      <th>7</th>\n",
       "      <td>Hiii... Phone is good. I just want to say thos...</td>\n",
       "    </tr>\n",
       "    <tr>\n",
       "      <th>8</th>\n",
       "      <td>Truly one of the best phone of the current tim...</td>\n",
       "    </tr>\n",
       "    <tr>\n",
       "      <th>9</th>\n",
       "      <td>Product is very good..but boat rockerz Bluetoo...</td>\n",
       "    </tr>\n",
       "    <tr>\n",
       "      <th>10</th>\n",
       "      <td>I guess I was the first one to order the phone...</td>\n",
       "    </tr>\n",
       "  </tbody>\n",
       "</table>\n",
       "</div>"
      ],
      "text/plain": [
       "                               Huawei Y9 2019 Reviews\n",
       "0   It is regret to mentioned that as a launch off...\n",
       "1   Very very poor camera, kindly go for some othe...\n",
       "2   Excellent buy, High on performance with Kirin ...\n",
       "3   Didn't receive the headphone that had promised...\n",
       "4   After all, after waiting for a long time, a go...\n",
       "5   I am not getting boAt rockerz Bluetooth headse...\n",
       "6   no headear phone with this pack,which is offer...\n",
       "7   Hiii... Phone is good. I just want to say thos...\n",
       "8   Truly one of the best phone of the current tim...\n",
       "9   Product is very good..but boat rockerz Bluetoo...\n",
       "10  I guess I was the first one to order the phone..."
      ]
     },
     "execution_count": 77,
     "metadata": {},
     "output_type": "execute_result"
    }
   ],
   "source": [
    "testing_data"
   ]
  },
  {
   "cell_type": "code",
   "execution_count": 78,
   "metadata": {},
   "outputs": [
    {
     "name": "stderr",
     "output_type": "stream",
     "text": [
      "E:\\Software\\Anaconda3\\lib\\site-packages\\scipy\\sparse\\compressed.py:214: SparseEfficiencyWarning: Comparing a sparse matrix with 0 using == is inefficient, try using != instead.\n",
      "  \", try using != instead.\", SparseEfficiencyWarning)\n"
     ]
    }
   ],
   "source": [
    "pos=0;\n",
    "neg=0;\n",
    "\n",
    "for i in testing_data['Huawei Y9 2019 Reviews']:\n",
    "    if(model.predict(count_Vect.transform([i])==1)):\n",
    "       pos+=1\n",
    "    elif (model.predict(count_Vect.transform([i])==0)):\n",
    "       neg+=1\n"
   ]
  },
  {
   "cell_type": "code",
   "execution_count": 79,
   "metadata": {},
   "outputs": [
    {
     "data": {
      "image/png": "[encoded data removed]",
      "text/plain": [
       "<Figure size 432x288 with 1 Axes>"
      ]
     },
     "metadata": {},
     "output_type": "display_data"
    }
   ],
   "source": [
    "\n",
    "accuracy_output=[pos,neg]\n",
    "activities = ['Positive','Negative']\n",
    "colors = ['yellowgreen','lightcoral']\n",
    "plt.pie(accuracy_output, labels=activities, colors=colors, startangle=90, autopct='%.1f%%')\n",
    "plt.show()"
   ]
  },
  {
   "cell_type": "code",
   "execution_count": 80,
   "metadata": {},
   "outputs": [],
   "source": [
    "#model.predict(count_Vect.transform(['','']))"
   ]
  },
  {
   "cell_type": "code",
   "execution_count": 81,
   "metadata": {},
   "outputs": [
    {
     "data": {
      "text/plain": [
       "2.578411102294922"
      ]
     },
     "execution_count": 81,
     "metadata": {},
     "output_type": "execute_result"
    }
   ],
   "source": [
    "#Finally let's apply SGD regression on the data and create our model\n",
    "import time as tm\n",
    "start =tm.time()\n",
    "from sklearn.linear_model import SGDClassifier\n",
    "#from sklearn.linear_model import cross_val_predict\n",
    "SGD_model = SGDClassifier(max_iter = 1500,tol=0.0001)\n",
    "SGD_model.fit(X_train_vec_data,y_train)\n",
    "time_sgd = tm.time() - start\n",
    "#print(\"time taken: %d\"%(end))\n",
    "time_sgd"
   ]
  },
  {
   "cell_type": "code",
   "execution_count": 82,
   "metadata": {},
   "outputs": [
    {
     "name": "stdout",
     "output_type": "stream",
     "text": [
      "Accuracy score: 0.9248635063697027\n"
     ]
    }
   ],
   "source": [
    "from sklearn.metrics import accuracy_score\n",
    "pred = SGD_model.predict(count_Vect.transform(X_test))\n",
    "accuracy_sgd = accuracy_score(y_test,pred)\n",
    "print(\"Accuracy score:\",accuracy_sgd)"
   ]
  },
  {
   "cell_type": "code",
   "execution_count": 83,
   "metadata": {},
   "outputs": [
    {
     "name": "stdout",
     "output_type": "stream",
     "text": [
      "Score:  0.8551522962320444\n",
      "3.7798900604248047\n"
     ]
    }
   ],
   "source": [
    "#We can try another means to score our model using the AUC(Area under the curve) score\n",
    "import time\n",
    "start = time.time()\n",
    "from sklearn.metrics import roc_auc_score\n",
    "pred = SGD_model.predict(count_Vect.transform(X_test))\n",
    "auc_sgd = roc_auc_score(y_test,pred)\n",
    "print('Score: ',auc_sgd)\n",
    "duration = time.time() - start\n",
    "print(duration)"
   ]
  },
  {
   "cell_type": "code",
   "execution_count": 84,
   "metadata": {},
   "outputs": [
    {
     "data": {
      "text/plain": [
       "0.25484251976013184"
      ]
     },
     "execution_count": 84,
     "metadata": {},
     "output_type": "execute_result"
    }
   ],
   "source": [
    "# NAIVE BAYES MODEL\n",
    "st = time.time()\n",
    "from sklearn.naive_bayes import MultinomialNB\n",
    "pred = MultinomialNB()\n",
    "pred.fit(X_train_vec_data,y_train)\n",
    "time_nb = time.time()-st\n",
    "time_nb"
   ]
  },
  {
   "cell_type": "code",
   "execution_count": 85,
   "metadata": {},
   "outputs": [
    {
     "name": "stdout",
     "output_type": "stream",
     "text": [
      "Classification rate:  0.8854211803449172\n"
     ]
    }
   ],
   "source": [
    "accuracy_nb = pred.score(count_Vect.transform(X_test),y_test)\n",
    "print(\"Classification rate: \",accuracy_nb)"
   ]
  },
  {
   "cell_type": "code",
   "execution_count": 86,
   "metadata": {},
   "outputs": [
    {
     "name": "stdout",
     "output_type": "stream",
     "text": [
      "Score:  0.8226977886940174\n"
     ]
    }
   ],
   "source": [
    "import time\n",
    "start = time.time()\n",
    "from sklearn.metrics import roc_auc_score\n",
    "pre1 = pred.predict(count_Vect.transform(X_test))\n",
    "auc_nb = roc_auc_score(y_test,pre1)\n",
    "print('Score: ',auc_nb)\n",
    "duration = time.time() - start\n"
   ]
  },
  {
   "cell_type": "code",
   "execution_count": 87,
   "metadata": {},
   "outputs": [
    {
     "data": {
      "image/png": "[encoded data removed]",
      "text/plain": [
       "<Figure size 432x288 with 1 Axes>"
      ]
     },
     "metadata": {},
     "output_type": "display_data"
    }
   ],
   "source": [
    "import numpy as np\n",
    "import matplotlib.pyplot as plt\n",
    "\n",
    "n_groups = 3\n",
    "\n",
    "Avg_acu = (accuracy_lg*100,accuracy_sgd*100, accuracy_nb*100)\n",
    "Auc_val = (auc_lg*100, auc_sgd*100, auc_nb*100)\n",
    "\n",
    "fig, ax = plt.subplots()\n",
    "\n",
    "index = np.arange(n_groups)\n",
    "bar_width = 0.35\n",
    "\n",
    "rects1 = plt.bar(index, Avg_acu, bar_width, color='#a3acff', \n",
    "    label='Average accuracy', alpha= 0.8)\n",
    "rects2 = plt.bar(index + bar_width, Auc_val, bar_width, color='#f9bc86', \n",
    "    label='Area under curve', alpha= 0.8)\n",
    "\n",
    "plt.xlabel('Models')\n",
    "plt.ylabel('Accuracy')\n",
    "plt.title('Models used Vs Accuracy')\n",
    "plt.xticks(index + bar_width/2, ('Logistic Regression', 'SGD Classifer', 'M Naive Bayes'))\n",
    "plt.legend(loc=5)\n",
    "\n",
    "for rect in rects1:\n",
    "    height = rect.get_height()\n",
    "    ax.text(rect.get_x() + rect.get_width()/2., 0.99*height,\n",
    "            '%d' % int(height) + \"%\", ha='center', va='bottom')\n",
    "for rect in rects2:\n",
    "    height = rect.get_height()\n",
    "    ax.text(rect.get_x() + rect.get_width()/2., 0.99*height,\n",
    "            '%d' % int(height) + \"%\", ha='center', va='bottom')\n",
    "\n",
    "plt.tight_layout()\n",
    "plt.show()"
   ]
  },
  {
   "cell_type": "code",
   "execution_count": 88,
   "metadata": {},
   "outputs": [
    {
     "data": {
      "image/png": "[encoded data removed]",
      "text/plain": [
       "<Figure size 432x288 with 1 Axes>"
      ]
     },
     "metadata": {},
     "output_type": "display_data"
    }
   ],
   "source": [
    "import matplotlib.pyplot as plt\n",
    "# Create bars\n",
    "barWidth = 0.9\n",
    "bars1 = [round(time_lg, 2)]\n",
    "bars2 = [round(time_sgd,2)]\n",
    "bars3 = [round(time_nb,2)]\n",
    "bars4 = bars1 + bars2 + bars3\n",
    " \n",
    "# The X position of bars\n",
    "r1 = [1]\n",
    "r2 = [2]\n",
    "r3 = [3]\n",
    "r4 = r1 + r2 + r3\n",
    " \n",
    "# Create barplot\n",
    "plt.bar(r1, bars1, width = barWidth, color = (0.3,0.1,0.4,0.6), label='Linear Regression')\n",
    "plt.bar(r2, bars2, width = barWidth, color = (0.3,0.5,0.4,0.6), label='SGD Classifier')\n",
    "plt.bar(r3, bars3, width = barWidth, color = (0.3,0.9,0.4,0.6), label='M Naive Bayes')\n",
    "# Note: the barplot could be created easily. See the barplot section for other examples.\n",
    "\n",
    "plt.xlabel('Models')\n",
    "plt.ylabel('Time (sec)')\n",
    "plt.title('Runtime of the differnt Models')\n",
    "# Create legend\n",
    "plt.legend()\n",
    " \n",
    "# Text below each barplot with a rotation at 90°\n",
    "plt.xticks([r + barWidth for r in range(len(r4))], ['Linear Regression', 'SGD Classifier', 'M Naive Bayes'], rotation=90)\n",
    " \n",
    "# Create labels\n",
    "label = [round(time_lg, 2), round(time_sgd,2), round(time_nb,2)]\n",
    " \n",
    "# Text on the top of each barplot\n",
    "for i in range(len(r4)):\n",
    "    plt.text(x = r4[i]-0.2 , y = bars4[i]+0.1, s = label[i], size = 12)\n",
    "    # Adjust the margin\n",
    "    plt.subplots_adjust(bottom= 0.2, top = 0.98)\n",
    "    \n",
    "plt.show()"
   ]
  },
  {
   "cell_type": "code",
   "execution_count": 89,
   "metadata": {},
   "outputs": [
    {
     "data": {
      "text/html": [
       "<style  type=\"text/css\" >\n",
       "    #T_7d834170_7fce_11e9_b473_e8039ac654e0 tr:nth-of-type(odd) {\n",
       "          background: #eee;\n",
       "    }    #T_7d834170_7fce_11e9_b473_e8039ac654e0 tr:nth-of-type(even) {\n",
       "          background: white;\n",
       "    }    #T_7d834170_7fce_11e9_b473_e8039ac654e0 th {\n",
       "          background: #606060;\n",
       "          color: white;\n",
       "          font-family: verdana;\n",
       "    }</style>  \n",
       "<table id=\"T_7d834170_7fce_11e9_b473_e8039ac654e0\" > \n",
       "<thead>    <tr> \n",
       "        <th class=\"col_heading level0 col0\" >Models</th> \n",
       "        <th class=\"col_heading level0 col1\" >Accuracy (%)</th> \n",
       "        <th class=\"col_heading level0 col2\" >Runtime (sec)</th> \n",
       "    </tr></thead> \n",
       "<tbody>    <tr> \n",
       "        <td id=\"T_7d834170_7fce_11e9_b473_e8039ac654e0row0_col0\" class=\"data row0 col0\" >Logistic Regression</td> \n",
       "        <td id=\"T_7d834170_7fce_11e9_b473_e8039ac654e0row0_col1\" class=\"data row0 col1\" >93.0897</td> \n",
       "        <td id=\"T_7d834170_7fce_11e9_b473_e8039ac654e0row0_col2\" class=\"data row0 col2\" >102.26</td> \n",
       "    </tr>    <tr> \n",
       "        <td id=\"T_7d834170_7fce_11e9_b473_e8039ac654e0row1_col0\" class=\"data row1 col0\" >SGD Classifer</td> \n",
       "        <td id=\"T_7d834170_7fce_11e9_b473_e8039ac654e0row1_col1\" class=\"data row1 col1\" >92.4864</td> \n",
       "        <td id=\"T_7d834170_7fce_11e9_b473_e8039ac654e0row1_col2\" class=\"data row1 col2\" >2.58</td> \n",
       "    </tr>    <tr> \n",
       "        <td id=\"T_7d834170_7fce_11e9_b473_e8039ac654e0row2_col0\" class=\"data row2 col0\" >M Naive Bayes</td> \n",
       "        <td id=\"T_7d834170_7fce_11e9_b473_e8039ac654e0row2_col1\" class=\"data row2 col1\" >88.5421</td> \n",
       "        <td id=\"T_7d834170_7fce_11e9_b473_e8039ac654e0row2_col2\" class=\"data row2 col2\" >0.25</td> \n",
       "    </tr></tbody> \n",
       "</table> "
      ],
      "text/plain": [
       "<pandas.io.formats.style.Styler at 0x18a43f4f400>"
      ]
     },
     "execution_count": 89,
     "metadata": {},
     "output_type": "execute_result"
    }
   ],
   "source": [
    "df = pd.DataFrame(\n",
    "dict(Runtime=[round(time_lg, 2), round(time_sgd,2),round(time_nb,2)],\n",
    "     Accuracy=[accuracy_lg*100,accuracy_sgd*100, accuracy_nb*100],\n",
    "     Models=['Logistic Regression', 'SGD Classifer', 'M Naive Bayes']),\n",
    "columns=['Models','Accuracy','Runtime'])\n",
    "df = df.rename(columns = {\"Runtime\": \"Runtime (sec)\",\"Accuracy\": \"Accuracy (%)\"})\n",
    "df.style.set_table_styles(\n",
    "[{'selector': 'tr:nth-of-type(odd)',\n",
    "  'props': [('background', '#eee')]}, \n",
    " {'selector': 'tr:nth-of-type(even)',\n",
    "  'props': [('background', 'white')]},\n",
    " {'selector': 'th',\n",
    "  'props': [('background', '#606060'), \n",
    "            ('color', 'white'),\n",
    "            ('font-family', 'verdana')]},\n",
    "]\n",
    ").hide_index()"
   ]
  },
  {
   "cell_type": "code",
   "execution_count": null,
   "metadata": {},
   "outputs": [],
   "source": []
  }
 ],
 "metadata": {
  "kernelspec": {
   "display_name": "Python 3",
   "language": "python",
   "name": "python3"
  },
  "language_info": {
   "codemirror_mode": {
    "name": "ipython",
    "version": 3
   },
   "file_extension": ".py",
   "mimetype": "text/x-python",
   "name": "python",
   "nbconvert_exporter": "python",
   "pygments_lexer": "ipython3",
   "version": "3.6.5"
  }
 },
 "nbformat": 4,
 "nbformat_minor": 2
}
